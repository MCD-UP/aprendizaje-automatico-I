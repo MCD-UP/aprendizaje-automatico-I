{
 "cells": [
  {
   "cell_type": "markdown",
   "metadata": {},
   "source": [
    "# k-medias\n",
    "Ejemplo de implementación del algoritmo k-medias utilizando el conjunto de datos Iris."
   ]
  },
  {
   "cell_type": "markdown",
   "metadata": {},
   "source": [
    "### Conjunto de Datos"
   ]
  },
  {
   "cell_type": "code",
   "execution_count": null,
   "metadata": {},
   "outputs": [],
   "source": [
    "from sklearn.datasets import load_iris\n",
    "import matplotlib.pyplot as plt\n",
    "\n",
    "datos = load_iris()\n",
    "\n",
    "plt.scatter(datos.data[:,0],datos.data[:,1])"
   ]
  },
  {
   "cell_type": "markdown",
   "metadata": {},
   "source": [
    "### Creación del modelo k-medias\n",
    "Se utilizan las primeras dos características del conjunto de datos"
   ]
  },
  {
   "cell_type": "code",
   "execution_count": null,
   "metadata": {},
   "outputs": [],
   "source": [
    "X = datos.data[:,0:2]\n",
    "\n",
    "# Crear modelo e inducirlo"
   ]
  },
  {
   "cell_type": "markdown",
   "metadata": {},
   "source": [
    "### Inspección del modelo k-medias"
   ]
  },
  {
   "cell_type": "code",
   "execution_count": null,
   "metadata": {},
   "outputs": [],
   "source": [
    "# Obtiene las etiquetas que especifican a qué grupo pertenecen los datos de X\n",
    "y = \n",
    "\n",
    "# Obtiene las coordenadas de los centroides\n",
    "C = \n",
    "\n",
    "# Grafica los datos agrupados\n",
    "plt.scatter(X[:,0],X[:,1],c=y)\n",
    "plt.scatter(C[:,0],C[:,1],marker='*',color = 'black', s = 1000)"
   ]
  },
  {
   "cell_type": "markdown",
   "metadata": {},
   "source": [
    "### Predicción de nuevos elementos"
   ]
  },
  {
   "cell_type": "code",
   "execution_count": null,
   "metadata": {},
   "outputs": [],
   "source": [
    "# Datos de prueba (originalmente no están en el conjunto de datos)\n",
    "import numpy as np\n",
    "Xp = np.array([[4,2],[6,4],[7,3.5]])\n",
    "\n",
    "# Grafica los datos junto con los grupos obtenidos previamente\n",
    "plt.scatter(X[:,0],X[:,1],c=y)\n",
    "plt.scatter(C[:,0],C[:,1],marker='*',color = 'black', s = 1000)\n",
    "\n",
    "plt.scatter(Xp[:,0],Xp[:,1],color = 'black', marker = '^', s = 100)"
   ]
  },
  {
   "cell_type": "code",
   "execution_count": null,
   "metadata": {},
   "outputs": [],
   "source": [
    "# Predice el grupo al que pertenecen\n",
    "yp = modelo.predict(Xp)\n",
    "\n",
    "# Grafica la predicción\n",
    "plt.scatter(X[:,0],X[:,1],c=y)\n",
    "plt.scatter(C[:,0],C[:,1],marker='*',color = 'black', s = 1000)\n",
    "\n",
    "plt.scatter(Xp[:,0],Xp[:,1],c=yp, marker = '^', s = 100)"
   ]
  }
 ],
 "metadata": {
  "kernelspec": {
   "display_name": "Python 3",
   "language": "python",
   "name": "python3"
  },
  "language_info": {
   "codemirror_mode": {
    "name": "ipython",
    "version": 3
   },
   "file_extension": ".py",
   "mimetype": "text/x-python",
   "name": "python",
   "nbconvert_exporter": "python",
   "pygments_lexer": "ipython3",
   "version": "3.7.4"
  }
 },
 "nbformat": 4,
 "nbformat_minor": 2
}
