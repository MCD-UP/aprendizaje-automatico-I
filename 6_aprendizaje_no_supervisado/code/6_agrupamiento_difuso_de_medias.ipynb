{
 "cells": [
  {
   "cell_type": "markdown",
   "metadata": {},
   "source": [
    "# Agrupamiento difuso de medias (FCM)\n",
    "Ejemplo de implementación del algoritmo FCM utilizando el conjunto de datos Iris."
   ]
  },
  {
   "cell_type": "markdown",
   "metadata": {},
   "source": [
    "## Instalación de la librería scikit-fuzzy\n",
    "En caso de que no se cuente con la librería"
   ]
  },
  {
   "cell_type": "code",
   "execution_count": null,
   "metadata": {},
   "outputs": [],
   "source": [
    "!pip install scikit-fuzzy"
   ]
  },
  {
   "cell_type": "markdown",
   "metadata": {},
   "source": [
    "### Conjunto de Datos"
   ]
  },
  {
   "cell_type": "code",
   "execution_count": null,
   "metadata": {},
   "outputs": [],
   "source": [
    "from sklearn.datasets import load_iris\n",
    "import matplotlib.pyplot as plt\n",
    "\n",
    "datos = load_iris()\n",
    "\n",
    "plt.scatter(datos.data[:,0],datos.data[:,1])"
   ]
  },
  {
   "cell_type": "markdown",
   "metadata": {},
   "source": [
    "### Creación del modelo FCM\n",
    "Se utilizan las primeras dos características del conjunto de datos"
   ]
  },
  {
   "cell_type": "code",
   "execution_count": null,
   "metadata": {},
   "outputs": [],
   "source": [
    "import numpy as np\n",
    "X = np.array(datos.data[:,0:2])\n",
    "\n",
    "# Crear modelo"
   ]
  },
  {
   "cell_type": "markdown",
   "metadata": {},
   "source": [
    "### Inspección del modelo FCM"
   ]
  },
  {
   "cell_type": "code",
   "execution_count": null,
   "metadata": {},
   "outputs": [],
   "source": [
    "# Obtiene las coordenadas de los centroides\n",
    "C = \n",
    "\n",
    "# Grafica los datos agrupados\n",
    "plt.scatter(X[:,0],X[:,1])\n",
    "plt.scatter(C[:,0],C[:,1],marker='*',color = 'black', s = 1000)"
   ]
  },
  {
   "cell_type": "code",
   "execution_count": null,
   "metadata": {},
   "outputs": [],
   "source": [
    "u = modelo[1]\n",
    "cluster_membership = np.argmax(u, axis=0)\n",
    "\n",
    "colors = ['b', 'orange', 'g', 'r', 'c', 'm', 'y', 'k', 'Brown', 'ForestGreen']\n",
    "for j in range(k):\n",
    "    plt.scatter(X[cluster_membership == j,0],X[cluster_membership == j,1], color=colors[j])\n",
    "plt.scatter(C[:,0],C[:,1],marker='*',color = 'black', s = 1000)"
   ]
  },
  {
   "cell_type": "code",
   "execution_count": null,
   "metadata": {},
   "outputs": [],
   "source": [
    "# Grafica las funciones de membresía de los elementos\n",
    "for j in range(k):\n",
    "    plt.plot(u[j,:])"
   ]
  },
  {
   "cell_type": "markdown",
   "metadata": {},
   "source": [
    "### Predicción de nuevos elementos"
   ]
  },
  {
   "cell_type": "code",
   "execution_count": null,
   "metadata": {},
   "outputs": [],
   "source": [
    "# Datos de prueba (originalmente no están en el conjunto de datos)\n",
    "Xp = np.array([[4,2],[6,4],[7,3.5]])\n",
    "\n",
    "# Grafica el dato junto con los grupos obtenidos previamente\n",
    "for j in range(k):\n",
    "    plt.scatter(X[cluster_membership == j,0],X[cluster_membership == j,1], color=colors[j])\n",
    "plt.scatter(C[:,0],C[:,1],marker='*',color = 'black', s = 1000)\n",
    "\n",
    "plt.scatter(Xp[:,0],Xp[:,1],color = 'black', marker = '^', s = 100)"
   ]
  },
  {
   "cell_type": "code",
   "execution_count": null,
   "metadata": {},
   "outputs": [],
   "source": [
    "# Predice el grupo al que pertenecen\n",
    "modelo_pred = \n",
    "\n",
    "u_pred = modelo_pred[0]\n",
    "cluster_membership_pred = np.argmax(u_pred, axis=0)\n",
    "\n",
    "# Grafica la predicción\n",
    "for j in range(k):\n",
    "    plt.scatter(X[cluster_membership == j,0],X[cluster_membership == j,1], color=colors[j])\n",
    "    plt.scatter(Xp[cluster_membership_pred == j,0],Xp[cluster_membership_pred == j,1], marker = '^', color=colors[j], s = 100)\n",
    "plt.scatter(C[:,0],C[:,1],marker='*',color = 'black', s = 1000)"
   ]
  }
 ],
 "metadata": {
  "kernelspec": {
   "display_name": "Python 3",
   "language": "python",
   "name": "python3"
  },
  "language_info": {
   "codemirror_mode": {
    "name": "ipython",
    "version": 3
   },
   "file_extension": ".py",
   "mimetype": "text/x-python",
   "name": "python",
   "nbconvert_exporter": "python",
   "pygments_lexer": "ipython3",
   "version": "3.7.4"
  }
 },
 "nbformat": 4,
 "nbformat_minor": 2
}
