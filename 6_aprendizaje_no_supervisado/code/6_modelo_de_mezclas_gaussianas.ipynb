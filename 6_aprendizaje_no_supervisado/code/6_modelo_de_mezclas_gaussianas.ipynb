{
 "cells": [
  {
   "cell_type": "markdown",
   "metadata": {},
   "source": [
    "# Modelo de mezclas Gaussianas\n",
    "Ejemplo de implementación del modelo de mezclas Gausssianas (GMM) utilizando el conjunto de datos Iris."
   ]
  },
  {
   "cell_type": "markdown",
   "metadata": {},
   "source": [
    "### Conjunto de Datos"
   ]
  },
  {
   "cell_type": "code",
   "execution_count": null,
   "metadata": {},
   "outputs": [],
   "source": [
    "from sklearn.datasets import load_iris\n",
    "import matplotlib.pyplot as plt\n",
    "\n",
    "datos = load_iris()\n",
    "\n",
    "plt.scatter(datos.data[:,0],datos.data[:,1])"
   ]
  },
  {
   "cell_type": "markdown",
   "metadata": {},
   "source": [
    "### Creación del modelo GMM\n",
    "Se utilizan las primeras dos características del conjunto de datos"
   ]
  },
  {
   "cell_type": "code",
   "execution_count": null,
   "metadata": {},
   "outputs": [],
   "source": [
    "# Crear modelo"
   ]
  },
  {
   "cell_type": "markdown",
   "metadata": {},
   "source": [
    "### Inspección del modelo k-medias"
   ]
  },
  {
   "cell_type": "code",
   "execution_count": null,
   "metadata": {},
   "outputs": [],
   "source": [
    "# Obtiene las etiquetas que especifican a qué grupo pertenecen los datos de X\n",
    "y = \n",
    "\n",
    "# Obtiene las coordenadas de las medias\n",
    "C = \n",
    "\n",
    "# Grafica los datos agrupados\n",
    "plt.scatter(X[:,0],X[:,1],c=y)\n",
    "plt.scatter(C[:,0],C[:,1],marker='*',color = 'black', s = 1000)"
   ]
  },
  {
   "cell_type": "markdown",
   "metadata": {},
   "source": [
    "### Función modificada de: \n",
    "https://scikit-learn.org/stable/auto_examples/mixture/plot_gmm.html#sphx-glr-auto-examples-mixture-plot-gmm-py"
   ]
  },
  {
   "cell_type": "code",
   "execution_count": null,
   "metadata": {},
   "outputs": [],
   "source": [
    "def plot_results(X, Y_, means, covariances):\n",
    "    import itertools\n",
    "    from scipy import linalg\n",
    "    import numpy as np\n",
    "    import matplotlib as mpl\n",
    "    color_iter = itertools.cycle(['navy', 'c', 'cornflowerblue', 'gold','darkorange'])\n",
    "    splot = plt.subplot(1, 1, 1)\n",
    "    for i, (mean, covar, color) in enumerate(zip(\n",
    "            means, covariances, color_iter)):\n",
    "        v, w = linalg.eigh(covar)\n",
    "        v = 2. * np.sqrt(2.) * np.sqrt(v)\n",
    "        u = w[0] / linalg.norm(w[0])\n",
    "        # as the DP will not use every component it has access to\n",
    "        # unless it needs it, we shouldn't plot the redundant\n",
    "        # components.\n",
    "        if not np.any(Y_ == i):\n",
    "            continue\n",
    "        plt.scatter(X[Y_ == i, 0], X[Y_ == i, 1], color=color, s= 50)\n",
    "\n",
    "        # Plot an ellipse to show the Gaussian component\n",
    "        angle = np.arctan(u[1] / u[0])\n",
    "        angle = 180. * angle / np.pi  # convert to degrees\n",
    "        ell = mpl.patches.Ellipse(mean, v[0], v[1], 180. + angle, color=color)\n",
    "        ell.set_clip_box(splot.bbox)\n",
    "        ell.set_alpha(0.5)\n",
    "        splot.add_artist(ell)"
   ]
  },
  {
   "cell_type": "code",
   "execution_count": null,
   "metadata": {},
   "outputs": [],
   "source": [
    "plot_results(X,modelo.predict(X), modelo.means_, modelo.covariances_)"
   ]
  },
  {
   "cell_type": "markdown",
   "metadata": {},
   "source": [
    "### Predicción de nuevos elementos"
   ]
  },
  {
   "cell_type": "code",
   "execution_count": null,
   "metadata": {},
   "outputs": [],
   "source": [
    "# Datos de prueba (originalmente no están en el conjunto de datos)\n",
    "import numpy as np\n",
    "Xp = np.array([[4,2],[6,4],[7,3.5]])\n",
    "\n",
    "# Grafica los datos junto con los grupos obtenidos previamente\n",
    "plt.scatter(X[:,0],X[:,1],c=y)\n",
    "plt.scatter(C[:,0],C[:,1],marker='*',color = 'black', s = 1000)\n",
    "\n",
    "plt.scatter(Xp[:,0],Xp[:,1],color = 'black', marker = '^', s = 100)"
   ]
  },
  {
   "cell_type": "code",
   "execution_count": null,
   "metadata": {},
   "outputs": [],
   "source": [
    "# Predice el grupo al que pertenecen\n",
    "yp = modelo.predict(Xp)\n",
    "\n",
    "# Grafica la predicción\n",
    "plt.scatter(X[:,0],X[:,1],c=y)\n",
    "plt.scatter(C[:,0],C[:,1],marker='*',color = 'black', s = 1000)\n",
    "\n",
    "plt.scatter(Xp[:,0],Xp[:,1],c=yp, marker = '^', s = 100)"
   ]
  },
  {
   "cell_type": "code",
   "execution_count": null,
   "metadata": {},
   "outputs": [],
   "source": [
    "y_prob = modelo.predict_proba(X)\n",
    "\n",
    "plt.plot(y_prob[:,0])\n",
    "plt.plot(y_prob[:,1])\n",
    "plt.plot(y_prob[:,2])"
   ]
  }
 ],
 "metadata": {
  "kernelspec": {
   "display_name": "Python 3",
   "language": "python",
   "name": "python3"
  },
  "language_info": {
   "codemirror_mode": {
    "name": "ipython",
    "version": 3
   },
   "file_extension": ".py",
   "mimetype": "text/x-python",
   "name": "python",
   "nbconvert_exporter": "python",
   "pygments_lexer": "ipython3",
   "version": "3.7.4"
  }
 },
 "nbformat": 4,
 "nbformat_minor": 2
}
